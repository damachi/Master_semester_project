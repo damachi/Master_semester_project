{
 "cells": [
  {
   "cell_type": "code",
   "execution_count": 10,
   "metadata": {},
   "outputs": [],
   "source": [
    "import pandas as pd\n",
    "import matplotlib.pyplot as plt"
   ]
  },
  {
   "cell_type": "markdown",
   "metadata": {},
   "source": [
    "# Datasets"
   ]
  },
  {
   "cell_type": "markdown",
   "metadata": {},
   "source": [
    "## 1) Text_emotion.csv Dataset"
   ]
  },
  {
   "cell_type": "code",
   "execution_count": 31,
   "metadata": {},
   "outputs": [],
   "source": [
    "df = pd.read_csv('./Data/text_emotion.csv')"
   ]
  },
  {
   "cell_type": "code",
   "execution_count": 32,
   "metadata": {},
   "outputs": [
    {
     "data": {
      "text/plain": [
       "40000"
      ]
     },
     "execution_count": 32,
     "metadata": {},
     "output_type": "execute_result"
    }
   ],
   "source": [
    "len(df)"
   ]
  },
  {
   "cell_type": "markdown",
   "metadata": {},
   "source": [
    "##### shows that we have the alot of data which is good"
   ]
  },
  {
   "cell_type": "code",
   "execution_count": 33,
   "metadata": {},
   "outputs": [
    {
     "data": {
      "text/html": [
       "<div>\n",
       "<style>\n",
       "    .dataframe thead tr:only-child th {\n",
       "        text-align: right;\n",
       "    }\n",
       "\n",
       "    .dataframe thead th {\n",
       "        text-align: left;\n",
       "    }\n",
       "\n",
       "    .dataframe tbody tr th {\n",
       "        vertical-align: top;\n",
       "    }\n",
       "</style>\n",
       "<table border=\"1\" class=\"dataframe\">\n",
       "  <thead>\n",
       "    <tr style=\"text-align: right;\">\n",
       "      <th></th>\n",
       "      <th>tweet_id</th>\n",
       "      <th>sentiment</th>\n",
       "      <th>author</th>\n",
       "      <th>content</th>\n",
       "    </tr>\n",
       "  </thead>\n",
       "  <tbody>\n",
       "    <tr>\n",
       "      <th>0</th>\n",
       "      <td>1956967341</td>\n",
       "      <td>empty</td>\n",
       "      <td>xoshayzers</td>\n",
       "      <td>@tiffanylue i know  i was listenin to bad habi...</td>\n",
       "    </tr>\n",
       "    <tr>\n",
       "      <th>1</th>\n",
       "      <td>1956967666</td>\n",
       "      <td>sadness</td>\n",
       "      <td>wannamama</td>\n",
       "      <td>Layin n bed with a headache  ughhhh...waitin o...</td>\n",
       "    </tr>\n",
       "    <tr>\n",
       "      <th>2</th>\n",
       "      <td>1956967696</td>\n",
       "      <td>sadness</td>\n",
       "      <td>coolfunky</td>\n",
       "      <td>Funeral ceremony...gloomy friday...</td>\n",
       "    </tr>\n",
       "    <tr>\n",
       "      <th>3</th>\n",
       "      <td>1956967789</td>\n",
       "      <td>enthusiasm</td>\n",
       "      <td>czareaquino</td>\n",
       "      <td>wants to hang out with friends SOON!</td>\n",
       "    </tr>\n",
       "    <tr>\n",
       "      <th>4</th>\n",
       "      <td>1956968416</td>\n",
       "      <td>neutral</td>\n",
       "      <td>xkilljoyx</td>\n",
       "      <td>@dannycastillo We want to trade with someone w...</td>\n",
       "    </tr>\n",
       "  </tbody>\n",
       "</table>\n",
       "</div>"
      ],
      "text/plain": [
       "     tweet_id   sentiment       author  \\\n",
       "0  1956967341       empty   xoshayzers   \n",
       "1  1956967666     sadness    wannamama   \n",
       "2  1956967696     sadness    coolfunky   \n",
       "3  1956967789  enthusiasm  czareaquino   \n",
       "4  1956968416     neutral    xkilljoyx   \n",
       "\n",
       "                                             content  \n",
       "0  @tiffanylue i know  i was listenin to bad habi...  \n",
       "1  Layin n bed with a headache  ughhhh...waitin o...  \n",
       "2                Funeral ceremony...gloomy friday...  \n",
       "3               wants to hang out with friends SOON!  \n",
       "4  @dannycastillo We want to trade with someone w...  "
      ]
     },
     "execution_count": 33,
     "metadata": {},
     "output_type": "execute_result"
    }
   ],
   "source": [
    "df.head()"
   ]
  },
  {
   "cell_type": "code",
   "execution_count": 35,
   "metadata": {},
   "outputs": [
    {
     "data": {
      "text/plain": [
       "83294"
      ]
     },
     "execution_count": 35,
     "metadata": {},
     "output_type": "execute_result"
    }
   ],
   "source": [
    "len(vocabulary_size('content',df))"
   ]
  },
  {
   "cell_type": "markdown",
   "metadata": {},
   "source": [
    "I now proceed to display the number of text per sentiment"
   ]
  },
  {
   "cell_type": "code",
   "execution_count": 5,
   "metadata": {},
   "outputs": [],
   "source": [
    "sentiments = df.groupby('sentiment').agg('size')\n",
    "sentiments = pd.DataFrame(sentiments)"
   ]
  },
  {
   "cell_type": "code",
   "execution_count": 6,
   "metadata": {},
   "outputs": [],
   "source": [
    "sentiments = sentiments.rename(columns={0: 'sentiment count'}, inplace=False)"
   ]
  },
  {
   "cell_type": "code",
   "execution_count": 7,
   "metadata": {},
   "outputs": [
    {
     "data": {
      "image/png": "[encoded data removed]",
      "text/plain": [
       "<matplotlib.figure.Figure at 0x1192b1240>"
      ]
     },
     "metadata": {},
     "output_type": "display_data"
    }
   ],
   "source": [
    "sentiments.plot.bar(rot=90)\n",
    "plt.show()"
   ]
  },
  {
   "cell_type": "markdown",
   "metadata": {},
   "source": [
    "## EmotionPhrases.csv dataset\n",
    "#### I proceed to reading the other dataset containing text with their labeled emotions"
   ]
  },
  {
   "cell_type": "code",
   "execution_count": 7,
   "metadata": {},
   "outputs": [],
   "source": [
    "messages = pd.read_csv('./Data/EmotionPhrases.csv')\n",
    "grouped_messages = pd.DataFrame(messages.groupby('Sentiment').agg('size'))\n",
    "grouped_messages = grouped_messages.rename(columns={0:'sentiment_Count'})"
   ]
  },
  {
   "cell_type": "code",
   "execution_count": 24,
   "metadata": {},
   "outputs": [
    {
     "data": {
      "text/html": [
       "<div>\n",
       "<style>\n",
       "    .dataframe thead tr:only-child th {\n",
       "        text-align: right;\n",
       "    }\n",
       "\n",
       "    .dataframe thead th {\n",
       "        text-align: left;\n",
       "    }\n",
       "\n",
       "    .dataframe tbody tr th {\n",
       "        vertical-align: top;\n",
       "    }\n",
       "</style>\n",
       "<table border=\"1\" class=\"dataframe\">\n",
       "  <thead>\n",
       "    <tr style=\"text-align: right;\">\n",
       "      <th></th>\n",
       "      <th>Sentiment</th>\n",
       "      <th>Content</th>\n",
       "    </tr>\n",
       "  </thead>\n",
       "  <tbody>\n",
       "    <tr>\n",
       "      <th>0</th>\n",
       "      <td>joy</td>\n",
       "      <td>[ On days when I feel close to my partner and ...</td>\n",
       "    </tr>\n",
       "    <tr>\n",
       "      <th>1</th>\n",
       "      <td>fear</td>\n",
       "      <td>Every time I imagine that someone I love or I ...</td>\n",
       "    </tr>\n",
       "    <tr>\n",
       "      <th>2</th>\n",
       "      <td>anger</td>\n",
       "      <td>When I had been obviously unjustly treated and...</td>\n",
       "    </tr>\n",
       "    <tr>\n",
       "      <th>3</th>\n",
       "      <td>sadness</td>\n",
       "      <td>When I think about the short time that we live...</td>\n",
       "    </tr>\n",
       "    <tr>\n",
       "      <th>4</th>\n",
       "      <td>disgust</td>\n",
       "      <td>At a gathering I found myself involuntarily si...</td>\n",
       "    </tr>\n",
       "  </tbody>\n",
       "</table>\n",
       "</div>"
      ],
      "text/plain": [
       "  Sentiment                                            Content\n",
       "0       joy  [ On days when I feel close to my partner and ...\n",
       "1      fear  Every time I imagine that someone I love or I ...\n",
       "2     anger  When I had been obviously unjustly treated and...\n",
       "3   sadness  When I think about the short time that we live...\n",
       "4   disgust  At a gathering I found myself involuntarily si..."
      ]
     },
     "execution_count": 24,
     "metadata": {},
     "output_type": "execute_result"
    }
   ],
   "source": [
    "messages.head()"
   ]
  },
  {
   "cell_type": "code",
   "execution_count": 11,
   "metadata": {},
   "outputs": [
    {
     "data": {
      "text/plain": [
       "7652"
      ]
     },
     "execution_count": 11,
     "metadata": {},
     "output_type": "execute_result"
    }
   ],
   "source": [
    "len(messages)"
   ]
  },
  {
   "cell_type": "code",
   "execution_count": 10,
   "metadata": {},
   "outputs": [
    {
     "data": {
      "text/html": [
       "<div>\n",
       "<style>\n",
       "    .dataframe thead tr:only-child th {\n",
       "        text-align: right;\n",
       "    }\n",
       "\n",
       "    .dataframe thead th {\n",
       "        text-align: left;\n",
       "    }\n",
       "\n",
       "    .dataframe tbody tr th {\n",
       "        vertical-align: top;\n",
       "    }\n",
       "</style>\n",
       "<table border=\"1\" class=\"dataframe\">\n",
       "  <thead>\n",
       "    <tr style=\"text-align: right;\">\n",
       "      <th></th>\n",
       "      <th>sentiment_Count</th>\n",
       "    </tr>\n",
       "    <tr>\n",
       "      <th>Sentiment</th>\n",
       "      <th></th>\n",
       "    </tr>\n",
       "  </thead>\n",
       "  <tbody>\n",
       "    <tr>\n",
       "      <th>anger</th>\n",
       "      <td>1094</td>\n",
       "    </tr>\n",
       "    <tr>\n",
       "      <th>disgust</th>\n",
       "      <td>1094</td>\n",
       "    </tr>\n",
       "    <tr>\n",
       "      <th>fear</th>\n",
       "      <td>1093</td>\n",
       "    </tr>\n",
       "    <tr>\n",
       "      <th>guilt</th>\n",
       "      <td>1091</td>\n",
       "    </tr>\n",
       "    <tr>\n",
       "      <th>joy</th>\n",
       "      <td>1092</td>\n",
       "    </tr>\n",
       "    <tr>\n",
       "      <th>sadness</th>\n",
       "      <td>1094</td>\n",
       "    </tr>\n",
       "    <tr>\n",
       "      <th>shame</th>\n",
       "      <td>1094</td>\n",
       "    </tr>\n",
       "  </tbody>\n",
       "</table>\n",
       "</div>"
      ],
      "text/plain": [
       "           sentiment_Count\n",
       "Sentiment                 \n",
       "anger                 1094\n",
       "disgust               1094\n",
       "fear                  1093\n",
       "guilt                 1091\n",
       "joy                   1092\n",
       "sadness               1094\n",
       "shame                 1094"
      ]
     },
     "execution_count": 10,
     "metadata": {},
     "output_type": "execute_result"
    }
   ],
   "source": [
    "grouped_messages"
   ]
  },
  {
   "cell_type": "code",
   "execution_count": 25,
   "metadata": {},
   "outputs": [
    {
     "data": {
      "image/png": "[encoded data removed]",
      "text/plain": [
       "<matplotlib.figure.Figure at 0x115cbcd30>"
      ]
     },
     "metadata": {},
     "output_type": "display_data"
    }
   ],
   "source": [
    "grouped_messages.plot.bar(rot=90)\n",
    "plt.show()"
   ]
  },
  {
   "cell_type": "markdown",
   "metadata": {},
   "source": [
    "vocabulary size"
   ]
  },
  {
   "cell_type": "code",
   "execution_count": 28,
   "metadata": {},
   "outputs": [
    {
     "data": {
      "text/plain": [
       "17080"
      ]
     },
     "execution_count": 28,
     "metadata": {},
     "output_type": "execute_result"
    }
   ],
   "source": [
    "len(vocabulary_size('Content',messages))"
   ]
  },
  {
   "cell_type": "code",
   "execution_count": 26,
   "metadata": {},
   "outputs": [],
   "source": [
    "sentiments_groups = []\n",
    "for gr,df in messages.groupby('Sentiment'):\n",
    "    sentiments_groups.append(df)"
   ]
  },
  {
   "cell_type": "markdown",
   "metadata": {},
   "source": [
    "### I proceed in showing the various tweets per category"
   ]
  },
  {
   "cell_type": "markdown",
   "metadata": {},
   "source": [
    "1) Anger"
   ]
  },
  {
   "cell_type": "code",
   "execution_count": 20,
   "metadata": {},
   "outputs": [
    {
     "data": {
      "text/html": [
       "<div>\n",
       "<style>\n",
       "    .dataframe thead tr:only-child th {\n",
       "        text-align: right;\n",
       "    }\n",
       "\n",
       "    .dataframe thead th {\n",
       "        text-align: left;\n",
       "    }\n",
       "\n",
       "    .dataframe tbody tr th {\n",
       "        vertical-align: top;\n",
       "    }\n",
       "</style>\n",
       "<table border=\"1\" class=\"dataframe\">\n",
       "  <thead>\n",
       "    <tr style=\"text-align: right;\">\n",
       "      <th></th>\n",
       "      <th>Sentiment</th>\n",
       "      <th>Content</th>\n",
       "    </tr>\n",
       "  </thead>\n",
       "  <tbody>\n",
       "    <tr>\n",
       "      <th>2</th>\n",
       "      <td>anger</td>\n",
       "      <td>When I had been obviously unjustly treated and...</td>\n",
       "    </tr>\n",
       "    <tr>\n",
       "      <th>9</th>\n",
       "      <td>anger</td>\n",
       "      <td>When a car is overtaking another and I am forc...</td>\n",
       "    </tr>\n",
       "    <tr>\n",
       "      <th>16</th>\n",
       "      <td>anger</td>\n",
       "      <td>When one is unjustly accused of something one ...</td>\n",
       "    </tr>\n",
       "    <tr>\n",
       "      <th>23</th>\n",
       "      <td>anger</td>\n",
       "      <td>Friends who torture animals.</td>\n",
       "    </tr>\n",
       "    <tr>\n",
       "      <th>30</th>\n",
       "      <td>anger</td>\n",
       "      <td>When my partner was attacked and lost three te...</td>\n",
       "    </tr>\n",
       "  </tbody>\n",
       "</table>\n",
       "</div>"
      ],
      "text/plain": [
       "   Sentiment                                            Content\n",
       "2      anger  When I had been obviously unjustly treated and...\n",
       "9      anger  When a car is overtaking another and I am forc...\n",
       "16     anger  When one is unjustly accused of something one ...\n",
       "23     anger                       Friends who torture animals.\n",
       "30     anger  When my partner was attacked and lost three te..."
      ]
     },
     "execution_count": 20,
     "metadata": {},
     "output_type": "execute_result"
    }
   ],
   "source": [
    "sentiments_groups[0].head()"
   ]
  },
  {
   "cell_type": "markdown",
   "metadata": {},
   "source": [
    "2) Disgust"
   ]
  },
  {
   "cell_type": "code",
   "execution_count": 21,
   "metadata": {},
   "outputs": [
    {
     "data": {
      "text/html": [
       "<div>\n",
       "<style>\n",
       "    .dataframe thead tr:only-child th {\n",
       "        text-align: right;\n",
       "    }\n",
       "\n",
       "    .dataframe thead th {\n",
       "        text-align: left;\n",
       "    }\n",
       "\n",
       "    .dataframe tbody tr th {\n",
       "        vertical-align: top;\n",
       "    }\n",
       "</style>\n",
       "<table border=\"1\" class=\"dataframe\">\n",
       "  <thead>\n",
       "    <tr style=\"text-align: right;\">\n",
       "      <th></th>\n",
       "      <th>Sentiment</th>\n",
       "      <th>Content</th>\n",
       "    </tr>\n",
       "  </thead>\n",
       "  <tbody>\n",
       "    <tr>\n",
       "      <th>4</th>\n",
       "      <td>disgust</td>\n",
       "      <td>At a gathering I found myself involuntarily si...</td>\n",
       "    </tr>\n",
       "    <tr>\n",
       "      <th>11</th>\n",
       "      <td>disgust</td>\n",
       "      <td>When I found a bristle in the liver paste tube.</td>\n",
       "    </tr>\n",
       "    <tr>\n",
       "      <th>18</th>\n",
       "      <td>disgust</td>\n",
       "      <td>When one finds out that someone you know is no...</td>\n",
       "    </tr>\n",
       "    <tr>\n",
       "      <th>25</th>\n",
       "      <td>disgust</td>\n",
       "      <td>Friends who torture animals.</td>\n",
       "    </tr>\n",
       "    <tr>\n",
       "      <th>32</th>\n",
       "      <td>disgust</td>\n",
       "      <td>When I nearly walked on a blindworm and then s...</td>\n",
       "    </tr>\n",
       "  </tbody>\n",
       "</table>\n",
       "</div>"
      ],
      "text/plain": [
       "   Sentiment                                            Content\n",
       "4    disgust  At a gathering I found myself involuntarily si...\n",
       "11   disgust    When I found a bristle in the liver paste tube.\n",
       "18   disgust  When one finds out that someone you know is no...\n",
       "25   disgust                       Friends who torture animals.\n",
       "32   disgust  When I nearly walked on a blindworm and then s..."
      ]
     },
     "execution_count": 21,
     "metadata": {},
     "output_type": "execute_result"
    }
   ],
   "source": [
    "sentiments_groups[1].head()"
   ]
  },
  {
   "cell_type": "markdown",
   "metadata": {},
   "source": [
    "3) Fear"
   ]
  },
  {
   "cell_type": "code",
   "execution_count": 24,
   "metadata": {},
   "outputs": [
    {
     "data": {
      "text/html": [
       "<div>\n",
       "<style>\n",
       "    .dataframe thead tr:only-child th {\n",
       "        text-align: right;\n",
       "    }\n",
       "\n",
       "    .dataframe thead th {\n",
       "        text-align: left;\n",
       "    }\n",
       "\n",
       "    .dataframe tbody tr th {\n",
       "        vertical-align: top;\n",
       "    }\n",
       "</style>\n",
       "<table border=\"1\" class=\"dataframe\">\n",
       "  <thead>\n",
       "    <tr style=\"text-align: right;\">\n",
       "      <th></th>\n",
       "      <th>Sentiment</th>\n",
       "      <th>Content</th>\n",
       "    </tr>\n",
       "  </thead>\n",
       "  <tbody>\n",
       "    <tr>\n",
       "      <th>1</th>\n",
       "      <td>fear</td>\n",
       "      <td>Every time I imagine that someone I love or I ...</td>\n",
       "    </tr>\n",
       "    <tr>\n",
       "      <th>8</th>\n",
       "      <td>fear</td>\n",
       "      <td>When, for the first time I realized the meanin...</td>\n",
       "    </tr>\n",
       "    <tr>\n",
       "      <th>15</th>\n",
       "      <td>fear</td>\n",
       "      <td>When one has arranged to meet someone and that...</td>\n",
       "    </tr>\n",
       "    <tr>\n",
       "      <th>22</th>\n",
       "      <td>fear</td>\n",
       "      <td>When I climbed up a tree to pick apples.  The ...</td>\n",
       "    </tr>\n",
       "    <tr>\n",
       "      <th>29</th>\n",
       "      <td>fear</td>\n",
       "      <td>When my 2 year old son climbed up and sat on t...</td>\n",
       "    </tr>\n",
       "  </tbody>\n",
       "</table>\n",
       "</div>"
      ],
      "text/plain": [
       "   Sentiment                                            Content\n",
       "1       fear  Every time I imagine that someone I love or I ...\n",
       "8       fear  When, for the first time I realized the meanin...\n",
       "15      fear  When one has arranged to meet someone and that...\n",
       "22      fear  When I climbed up a tree to pick apples.  The ...\n",
       "29      fear  When my 2 year old son climbed up and sat on t..."
      ]
     },
     "execution_count": 24,
     "metadata": {},
     "output_type": "execute_result"
    }
   ],
   "source": [
    "sentiments_groups[2].head()"
   ]
  },
  {
   "cell_type": "markdown",
   "metadata": {},
   "source": [
    "4) Guilt"
   ]
  },
  {
   "cell_type": "code",
   "execution_count": 26,
   "metadata": {},
   "outputs": [
    {
     "data": {
      "text/html": [
       "<div>\n",
       "<style>\n",
       "    .dataframe thead tr:only-child th {\n",
       "        text-align: right;\n",
       "    }\n",
       "\n",
       "    .dataframe thead th {\n",
       "        text-align: left;\n",
       "    }\n",
       "\n",
       "    .dataframe tbody tr th {\n",
       "        vertical-align: top;\n",
       "    }\n",
       "</style>\n",
       "<table border=\"1\" class=\"dataframe\">\n",
       "  <thead>\n",
       "    <tr style=\"text-align: right;\">\n",
       "      <th></th>\n",
       "      <th>Sentiment</th>\n",
       "      <th>Content</th>\n",
       "    </tr>\n",
       "  </thead>\n",
       "  <tbody>\n",
       "    <tr>\n",
       "      <th>6</th>\n",
       "      <td>guilt</td>\n",
       "      <td>I feel guilty when when I realize that I consi...</td>\n",
       "    </tr>\n",
       "    <tr>\n",
       "      <th>13</th>\n",
       "      <td>guilt</td>\n",
       "      <td>When I think that I do not study enough.  Afte...</td>\n",
       "    </tr>\n",
       "    <tr>\n",
       "      <th>20</th>\n",
       "      <td>guilt</td>\n",
       "      <td>When one has neglected or been unjust to a goo...</td>\n",
       "    </tr>\n",
       "    <tr>\n",
       "      <th>27</th>\n",
       "      <td>guilt</td>\n",
       "      <td>[ When excuses are necessary and I get out of ...</td>\n",
       "    </tr>\n",
       "    <tr>\n",
       "      <th>34</th>\n",
       "      <td>guilt</td>\n",
       "      <td>I experience a sense of guilt as my middle son...</td>\n",
       "    </tr>\n",
       "  </tbody>\n",
       "</table>\n",
       "</div>"
      ],
      "text/plain": [
       "   Sentiment                                            Content\n",
       "6      guilt  I feel guilty when when I realize that I consi...\n",
       "13     guilt  When I think that I do not study enough.  Afte...\n",
       "20     guilt  When one has neglected or been unjust to a goo...\n",
       "27     guilt  [ When excuses are necessary and I get out of ...\n",
       "34     guilt  I experience a sense of guilt as my middle son..."
      ]
     },
     "execution_count": 26,
     "metadata": {},
     "output_type": "execute_result"
    }
   ],
   "source": [
    "sentiments_groups[3].head()"
   ]
  },
  {
   "cell_type": "markdown",
   "metadata": {},
   "source": [
    "5) Joy"
   ]
  },
  {
   "cell_type": "code",
   "execution_count": 27,
   "metadata": {},
   "outputs": [
    {
     "data": {
      "text/html": [
       "<div>\n",
       "<style>\n",
       "    .dataframe thead tr:only-child th {\n",
       "        text-align: right;\n",
       "    }\n",
       "\n",
       "    .dataframe thead th {\n",
       "        text-align: left;\n",
       "    }\n",
       "\n",
       "    .dataframe tbody tr th {\n",
       "        vertical-align: top;\n",
       "    }\n",
       "</style>\n",
       "<table border=\"1\" class=\"dataframe\">\n",
       "  <thead>\n",
       "    <tr style=\"text-align: right;\">\n",
       "      <th></th>\n",
       "      <th>Sentiment</th>\n",
       "      <th>Content</th>\n",
       "    </tr>\n",
       "  </thead>\n",
       "  <tbody>\n",
       "    <tr>\n",
       "      <th>0</th>\n",
       "      <td>joy</td>\n",
       "      <td>[ On days when I feel close to my partner and ...</td>\n",
       "    </tr>\n",
       "    <tr>\n",
       "      <th>7</th>\n",
       "      <td>joy</td>\n",
       "      <td>After my girlfriend had taken her exam we went...</td>\n",
       "    </tr>\n",
       "    <tr>\n",
       "      <th>14</th>\n",
       "      <td>joy</td>\n",
       "      <td>When I pass an examination which I did not thi...</td>\n",
       "    </tr>\n",
       "    <tr>\n",
       "      <th>21</th>\n",
       "      <td>joy</td>\n",
       "      <td>Passing an exam I did not expect to pass.</td>\n",
       "    </tr>\n",
       "    <tr>\n",
       "      <th>28</th>\n",
       "      <td>joy</td>\n",
       "      <td>When I had my children.</td>\n",
       "    </tr>\n",
       "  </tbody>\n",
       "</table>\n",
       "</div>"
      ],
      "text/plain": [
       "   Sentiment                                            Content\n",
       "0        joy  [ On days when I feel close to my partner and ...\n",
       "7        joy  After my girlfriend had taken her exam we went...\n",
       "14       joy  When I pass an examination which I did not thi...\n",
       "21       joy          Passing an exam I did not expect to pass.\n",
       "28       joy                            When I had my children."
      ]
     },
     "execution_count": 27,
     "metadata": {},
     "output_type": "execute_result"
    }
   ],
   "source": [
    "sentiments_groups[4].head()"
   ]
  },
  {
   "cell_type": "markdown",
   "metadata": {},
   "source": [
    "6) Sadness"
   ]
  },
  {
   "cell_type": "code",
   "execution_count": 28,
   "metadata": {},
   "outputs": [
    {
     "data": {
      "text/html": [
       "<div>\n",
       "<style>\n",
       "    .dataframe thead tr:only-child th {\n",
       "        text-align: right;\n",
       "    }\n",
       "\n",
       "    .dataframe thead th {\n",
       "        text-align: left;\n",
       "    }\n",
       "\n",
       "    .dataframe tbody tr th {\n",
       "        vertical-align: top;\n",
       "    }\n",
       "</style>\n",
       "<table border=\"1\" class=\"dataframe\">\n",
       "  <thead>\n",
       "    <tr style=\"text-align: right;\">\n",
       "      <th></th>\n",
       "      <th>Sentiment</th>\n",
       "      <th>Content</th>\n",
       "    </tr>\n",
       "  </thead>\n",
       "  <tbody>\n",
       "    <tr>\n",
       "      <th>3</th>\n",
       "      <td>sadness</td>\n",
       "      <td>When I think about the short time that we live...</td>\n",
       "    </tr>\n",
       "    <tr>\n",
       "      <th>10</th>\n",
       "      <td>sadness</td>\n",
       "      <td>When I recently thought about the hard work it...</td>\n",
       "    </tr>\n",
       "    <tr>\n",
       "      <th>17</th>\n",
       "      <td>sadness</td>\n",
       "      <td>When one's studies seem hopelessly difficult a...</td>\n",
       "    </tr>\n",
       "    <tr>\n",
       "      <th>24</th>\n",
       "      <td>sadness</td>\n",
       "      <td>[ Same as in anger.]</td>\n",
       "    </tr>\n",
       "    <tr>\n",
       "      <th>31</th>\n",
       "      <td>sadness</td>\n",
       "      <td>When I see children on T.V from areas devastat...</td>\n",
       "    </tr>\n",
       "  </tbody>\n",
       "</table>\n",
       "</div>"
      ],
      "text/plain": [
       "   Sentiment                                            Content\n",
       "3    sadness  When I think about the short time that we live...\n",
       "10   sadness  When I recently thought about the hard work it...\n",
       "17   sadness  When one's studies seem hopelessly difficult a...\n",
       "24   sadness                               [ Same as in anger.]\n",
       "31   sadness  When I see children on T.V from areas devastat..."
      ]
     },
     "execution_count": 28,
     "metadata": {},
     "output_type": "execute_result"
    }
   ],
   "source": [
    "sentiments_groups[5].head()"
   ]
  },
  {
   "cell_type": "code",
   "execution_count": null,
   "metadata": {},
   "outputs": [],
   "source": []
  },
  {
   "cell_type": "code",
   "execution_count": 29,
   "metadata": {},
   "outputs": [
    {
     "data": {
      "text/html": [
       "<div>\n",
       "<style>\n",
       "    .dataframe thead tr:only-child th {\n",
       "        text-align: right;\n",
       "    }\n",
       "\n",
       "    .dataframe thead th {\n",
       "        text-align: left;\n",
       "    }\n",
       "\n",
       "    .dataframe tbody tr th {\n",
       "        vertical-align: top;\n",
       "    }\n",
       "</style>\n",
       "<table border=\"1\" class=\"dataframe\">\n",
       "  <thead>\n",
       "    <tr style=\"text-align: right;\">\n",
       "      <th></th>\n",
       "      <th>Sentiment</th>\n",
       "      <th>Content</th>\n",
       "    </tr>\n",
       "  </thead>\n",
       "  <tbody>\n",
       "    <tr>\n",
       "      <th>5</th>\n",
       "      <td>shame</td>\n",
       "      <td>When I realized that I was directing the feeli...</td>\n",
       "    </tr>\n",
       "    <tr>\n",
       "      <th>12</th>\n",
       "      <td>shame</td>\n",
       "      <td>When I was tired and unmotivated, I shouted at...</td>\n",
       "    </tr>\n",
       "    <tr>\n",
       "      <th>19</th>\n",
       "      <td>shame</td>\n",
       "      <td>When one has been unjust, stupid towards someo...</td>\n",
       "    </tr>\n",
       "    <tr>\n",
       "      <th>26</th>\n",
       "      <td>shame</td>\n",
       "      <td>[ Same as above - friends who torture animals.]</td>\n",
       "    </tr>\n",
       "    <tr>\n",
       "      <th>33</th>\n",
       "      <td>shame</td>\n",
       "      <td>When I saw my 18 year old son grab an oxygen m...</td>\n",
       "    </tr>\n",
       "  </tbody>\n",
       "</table>\n",
       "</div>"
      ],
      "text/plain": [
       "   Sentiment                                            Content\n",
       "5      shame  When I realized that I was directing the feeli...\n",
       "12     shame  When I was tired and unmotivated, I shouted at...\n",
       "19     shame  When one has been unjust, stupid towards someo...\n",
       "26     shame    [ Same as above - friends who torture animals.]\n",
       "33     shame  When I saw my 18 year old son grab an oxygen m..."
      ]
     },
     "execution_count": 29,
     "metadata": {},
     "output_type": "execute_result"
    }
   ],
   "source": [
    "sentiments_groups[6].head()"
   ]
  },
  {
   "cell_type": "markdown",
   "metadata": {},
   "source": [
    "\n",
    "## 2) Cornell Dataset Extracting"
   ]
  },
  {
   "cell_type": "markdown",
   "metadata": {},
   "source": [
    "What I noticed in the dataset so far just by doing a control find on the basic emotions of the Eckman Model which are :\n",
    "\n",
    "- Anger 799 appearances \n",
    "- Disgust. 84 appearances\n",
    "- Fear. 342\n",
    "- Happiness 968\n",
    "- Sadness. 524\n",
    "- Surprise  477\n",
    "\n",
    "I did a keyword search for these specific words without  using synonyms of the terms and I notted down the occurences\n"
   ]
  },
  {
   "cell_type": "markdown",
   "metadata": {},
   "source": [
    "\n",
    "### I now proceed in extracting the movie_lines Dataset"
   ]
  },
  {
   "cell_type": "code",
   "execution_count": 3,
   "metadata": {},
   "outputs": [],
   "source": [
    "with open('./Data/cornell movie-dialogs corpus/movie_lines.txt',encoding='utf-8', errors ='ignore') as file:\n",
    "    data = file.readlines()    "
   ]
  },
  {
   "cell_type": "code",
   "execution_count": 4,
   "metadata": {},
   "outputs": [
    {
     "data": {
      "text/plain": [
       "304713"
      ]
     },
     "execution_count": 4,
     "metadata": {},
     "output_type": "execute_result"
    }
   ],
   "source": [
    "data_array = []\n",
    "\n",
    "da = []\n",
    "for line in data :\n",
    "    split_string = line.split('+++$+++')\n",
    "    dict_values = {'movieID':split_string[2], 'character name':split_string[3], 'utterance': split_string[4]}\n",
    "    \n",
    "    #data_array.append(dict_values)\n",
    "    da.append(dict_values['utterance'])\n",
    "\n",
    "len(da)"
   ]
  },
  {
   "cell_type": "code",
   "execution_count": null,
   "metadata": {},
   "outputs": [],
   "source": [
    "movie_lines_df = pd.DataFrame(data_array)"
   ]
  },
  {
   "cell_type": "markdown",
   "metadata": {},
   "source": [
    "Perhaps we just group for now per film. Perhaps there might be an interesting for future use"
   ]
  },
  {
   "cell_type": "code",
   "execution_count": 19,
   "metadata": {},
   "outputs": [],
   "source": [
    "films = []\n",
    "for groups, df in movie_lines_df.groupby('movieID') :\n",
    "    films.append(df)"
   ]
  },
  {
   "cell_type": "code",
   "execution_count": 20,
   "metadata": {},
   "outputs": [],
   "source": [
    "aggregated_utterance_size = movie_lines_df.groupby('movieID').agg('size')\n"
   ]
  },
  {
   "cell_type": "code",
   "execution_count": 52,
   "metadata": {},
   "outputs": [
    {
     "data": {
      "text/plain": [
       "list"
      ]
     },
     "execution_count": 52,
     "metadata": {},
     "output_type": "execute_result"
    }
   ],
   "source": [
    "cleaned_data = [d[1:-1] for d in da ]"
   ]
  },
  {
   "cell_type": "markdown",
   "metadata": {},
   "source": [
    "## 3) HappyDB dataset"
   ]
  },
  {
   "cell_type": "code",
   "execution_count": 38,
   "metadata": {},
   "outputs": [
    {
     "name": "stderr",
     "output_type": "stream",
     "text": [
      "Using TensorFlow backend.\n",
      "/Users/francisdamachi/anaconda/lib/python3.5/importlib/_bootstrap.py:222: RuntimeWarning: compiletime version 3.6 of module 'tensorflow.python.framework.fast_tensor_util' does not match runtime version 3.5\n",
      "  return f(*args, **kwds)\n"
     ]
    }
   ],
   "source": [
    "import gensim "
   ]
  },
  {
   "cell_type": "markdown",
   "metadata": {},
   "source": [
    "Choice of dataset\n",
    "\n",
    "- We have 3 dataset proposition :\n",
    "    - text_emotion.csv \n",
    "    - Emotion_phrases.csv\n",
    "    - HappyDb\n",
    "    "
   ]
  },
  {
   "cell_type": "code",
   "execution_count": 39,
   "metadata": {},
   "outputs": [],
   "source": [
    "df = pd.read_csv(\"cleaned_hm.csv\")"
   ]
  },
  {
   "cell_type": "code",
   "execution_count": 40,
   "metadata": {},
   "outputs": [
    {
     "data": {
      "text/plain": [
       "Index(['hmid', 'wid', 'reflection_period', 'original_hm', 'cleaned_hm',\n",
       "       'modified', 'num_sentence', 'ground_truth_category',\n",
       "       'predicted_category'],\n",
       "      dtype='object')"
      ]
     },
     "execution_count": 40,
     "metadata": {},
     "output_type": "execute_result"
    }
   ],
   "source": [
    "df.columns"
   ]
  },
  {
   "cell_type": "code",
   "execution_count": 41,
   "metadata": {},
   "outputs": [],
   "source": [
    "df = df.fillna(value=\" \", axis= 1)"
   ]
  },
  {
   "cell_type": "markdown",
   "metadata": {},
   "source": [
    "I take out the senteces that do not have a ground truth"
   ]
  },
  {
   "cell_type": "code",
   "execution_count": 42,
   "metadata": {},
   "outputs": [],
   "source": [
    "df = df.loc[df.ground_truth_category !=' ']"
   ]
  },
  {
   "cell_type": "markdown",
   "metadata": {},
   "source": [
    "dataset length"
   ]
  },
  {
   "cell_type": "code",
   "execution_count": 44,
   "metadata": {},
   "outputs": [
    {
     "data": {
      "text/plain": [
       "14125"
      ]
     },
     "execution_count": 44,
     "metadata": {},
     "output_type": "execute_result"
    }
   ],
   "source": [
    "len(df)"
   ]
  },
  {
   "cell_type": "code",
   "execution_count": 43,
   "metadata": {},
   "outputs": [
    {
     "data": {
      "text/plain": [
       "17757"
      ]
     },
     "execution_count": 43,
     "metadata": {},
     "output_type": "execute_result"
    }
   ],
   "source": [
    "len(vocabulary_size('cleaned_hm',df))"
   ]
  },
  {
   "cell_type": "markdown",
   "metadata": {},
   "source": [
    "It seems to me that some of the labels don't really reflect an emotion for example exercise, leisure, nature. \n",
    "But rather a topic or a feeling. We can see the distribution of the number of labeled la"
   ]
  },
  {
   "cell_type": "code",
   "execution_count": 44,
   "metadata": {},
   "outputs": [
    {
     "data": {
      "text/plain": [
       "ground_truth_category\n",
       "achievement         4276\n",
       "affection           4810\n",
       "bonding             1750\n",
       "enjoy_the_moment    1514\n",
       "exercise             217\n",
       "leisure             1306\n",
       "nature               252\n",
       "dtype: int64"
      ]
     },
     "execution_count": 44,
     "metadata": {},
     "output_type": "execute_result"
    }
   ],
   "source": [
    "df.groupby('ground_truth_category').agg('size')"
   ]
  },
  {
   "cell_type": "markdown",
   "metadata": {},
   "source": [
    "Lets try to see for example the types of generated sentences based on nature, in order\n",
    "to see if there is a relation between the sentence and the notion of happiness\n",
    "\n"
   ]
  },
  {
   "cell_type": "code",
   "execution_count": 60,
   "metadata": {},
   "outputs": [],
   "source": [
    "def get_df_per_label(label,df):\n",
    "    return df.loc[df.ground_truth_category== label].head() "
   ]
  },
  {
   "cell_type": "code",
   "execution_count": 61,
   "metadata": {},
   "outputs": [
    {
     "data": {
      "text/html": [
       "<div>\n",
       "<style>\n",
       "    .dataframe thead tr:only-child th {\n",
       "        text-align: right;\n",
       "    }\n",
       "\n",
       "    .dataframe thead th {\n",
       "        text-align: left;\n",
       "    }\n",
       "\n",
       "    .dataframe tbody tr th {\n",
       "        vertical-align: top;\n",
       "    }\n",
       "</style>\n",
       "<table border=\"1\" class=\"dataframe\">\n",
       "  <thead>\n",
       "    <tr style=\"text-align: right;\">\n",
       "      <th></th>\n",
       "      <th>hmid</th>\n",
       "      <th>wid</th>\n",
       "      <th>reflection_period</th>\n",
       "      <th>original_hm</th>\n",
       "      <th>cleaned_hm</th>\n",
       "      <th>modified</th>\n",
       "      <th>num_sentence</th>\n",
       "      <th>ground_truth_category</th>\n",
       "      <th>predicted_category</th>\n",
       "    </tr>\n",
       "  </thead>\n",
       "  <tbody>\n",
       "    <tr>\n",
       "      <th>146</th>\n",
       "      <td>27819</td>\n",
       "      <td>496</td>\n",
       "      <td>24h</td>\n",
       "      <td>After 3 long weeks of deep snow covered ground...</td>\n",
       "      <td>After 3 long weeks of deep snow covered ground...</td>\n",
       "      <td>True</td>\n",
       "      <td>2</td>\n",
       "      <td>nature</td>\n",
       "      <td>nature</td>\n",
       "    </tr>\n",
       "    <tr>\n",
       "      <th>240</th>\n",
       "      <td>27913</td>\n",
       "      <td>396</td>\n",
       "      <td>24h</td>\n",
       "      <td>The weather is very sultry in our place, our A...</td>\n",
       "      <td>The weather is very sultry in our place, our A...</td>\n",
       "      <td>True</td>\n",
       "      <td>3</td>\n",
       "      <td>nature</td>\n",
       "      <td>nature</td>\n",
       "    </tr>\n",
       "    <tr>\n",
       "      <th>344</th>\n",
       "      <td>28017</td>\n",
       "      <td>12580</td>\n",
       "      <td>24h</td>\n",
       "      <td>One last azalea bloom came out today and I was...</td>\n",
       "      <td>One last azalea bloom came out today and I was...</td>\n",
       "      <td>True</td>\n",
       "      <td>1</td>\n",
       "      <td>nature</td>\n",
       "      <td>nature</td>\n",
       "    </tr>\n",
       "    <tr>\n",
       "      <th>647</th>\n",
       "      <td>28320</td>\n",
       "      <td>563</td>\n",
       "      <td>24h</td>\n",
       "      <td>I went for a walk early in the morning and air...</td>\n",
       "      <td>I went for a walk early in the morning and air...</td>\n",
       "      <td>True</td>\n",
       "      <td>1</td>\n",
       "      <td>nature</td>\n",
       "      <td>nature</td>\n",
       "    </tr>\n",
       "    <tr>\n",
       "      <th>675</th>\n",
       "      <td>28348</td>\n",
       "      <td>2669</td>\n",
       "      <td>24h</td>\n",
       "      <td>I sat outside in my backyard and enjoyed the g...</td>\n",
       "      <td>I sat outside in my backyard and enjoyed the g...</td>\n",
       "      <td>True</td>\n",
       "      <td>1</td>\n",
       "      <td>nature</td>\n",
       "      <td>nature</td>\n",
       "    </tr>\n",
       "  </tbody>\n",
       "</table>\n",
       "</div>"
      ],
      "text/plain": [
       "      hmid    wid reflection_period  \\\n",
       "146  27819    496               24h   \n",
       "240  27913    396               24h   \n",
       "344  28017  12580               24h   \n",
       "647  28320    563               24h   \n",
       "675  28348   2669               24h   \n",
       "\n",
       "                                           original_hm  \\\n",
       "146  After 3 long weeks of deep snow covered ground...   \n",
       "240  The weather is very sultry in our place, our A...   \n",
       "344  One last azalea bloom came out today and I was...   \n",
       "647  I went for a walk early in the morning and air...   \n",
       "675  I sat outside in my backyard and enjoyed the g...   \n",
       "\n",
       "                                            cleaned_hm  modified  \\\n",
       "146  After 3 long weeks of deep snow covered ground...      True   \n",
       "240  The weather is very sultry in our place, our A...      True   \n",
       "344  One last azalea bloom came out today and I was...      True   \n",
       "647  I went for a walk early in the morning and air...      True   \n",
       "675  I sat outside in my backyard and enjoyed the g...      True   \n",
       "\n",
       "     num_sentence ground_truth_category predicted_category  \n",
       "146             2                nature             nature  \n",
       "240             3                nature             nature  \n",
       "344             1                nature             nature  \n",
       "647             1                nature             nature  \n",
       "675             1                nature             nature  "
      ]
     },
     "execution_count": 61,
     "metadata": {},
     "output_type": "execute_result"
    }
   ],
   "source": [
    "get_df_per_label('nature',df)"
   ]
  },
  {
   "cell_type": "code",
   "execution_count": 62,
   "metadata": {},
   "outputs": [
    {
     "data": {
      "text/html": [
       "<div>\n",
       "<style>\n",
       "    .dataframe thead tr:only-child th {\n",
       "        text-align: right;\n",
       "    }\n",
       "\n",
       "    .dataframe thead th {\n",
       "        text-align: left;\n",
       "    }\n",
       "\n",
       "    .dataframe tbody tr th {\n",
       "        vertical-align: top;\n",
       "    }\n",
       "</style>\n",
       "<table border=\"1\" class=\"dataframe\">\n",
       "  <thead>\n",
       "    <tr style=\"text-align: right;\">\n",
       "      <th></th>\n",
       "      <th>hmid</th>\n",
       "      <th>wid</th>\n",
       "      <th>reflection_period</th>\n",
       "      <th>original_hm</th>\n",
       "      <th>cleaned_hm</th>\n",
       "      <th>modified</th>\n",
       "      <th>num_sentence</th>\n",
       "      <th>ground_truth_category</th>\n",
       "      <th>predicted_category</th>\n",
       "    </tr>\n",
       "  </thead>\n",
       "  <tbody>\n",
       "    <tr>\n",
       "      <th>5</th>\n",
       "      <td>27678</td>\n",
       "      <td>45</td>\n",
       "      <td>24h</td>\n",
       "      <td>I meditated last night.</td>\n",
       "      <td>I meditated last night.</td>\n",
       "      <td>True</td>\n",
       "      <td>1</td>\n",
       "      <td>leisure</td>\n",
       "      <td>leisure</td>\n",
       "    </tr>\n",
       "    <tr>\n",
       "      <th>50</th>\n",
       "      <td>27723</td>\n",
       "      <td>389</td>\n",
       "      <td>24h</td>\n",
       "      <td>I went shopping</td>\n",
       "      <td>I went shopping</td>\n",
       "      <td>True</td>\n",
       "      <td>1</td>\n",
       "      <td>leisure</td>\n",
       "      <td>leisure</td>\n",
       "    </tr>\n",
       "    <tr>\n",
       "      <th>165</th>\n",
       "      <td>27838</td>\n",
       "      <td>5</td>\n",
       "      <td>24h</td>\n",
       "      <td>I was able to play my video game that I enjoy ...</td>\n",
       "      <td>I was able to play my video game that I enjoy ...</td>\n",
       "      <td>True</td>\n",
       "      <td>1</td>\n",
       "      <td>leisure</td>\n",
       "      <td>leisure</td>\n",
       "    </tr>\n",
       "    <tr>\n",
       "      <th>346</th>\n",
       "      <td>28019</td>\n",
       "      <td>496</td>\n",
       "      <td>24h</td>\n",
       "      <td>I was able to find time to go have my hair cut...</td>\n",
       "      <td>I was able to find time to go have my hair cut...</td>\n",
       "      <td>True</td>\n",
       "      <td>1</td>\n",
       "      <td>leisure</td>\n",
       "      <td>achievement</td>\n",
       "    </tr>\n",
       "    <tr>\n",
       "      <th>396</th>\n",
       "      <td>28069</td>\n",
       "      <td>1672</td>\n",
       "      <td>24h</td>\n",
       "      <td>I made a delicious meal using fresh ingredient...</td>\n",
       "      <td>I made a delicious meal using fresh ingredient...</td>\n",
       "      <td>True</td>\n",
       "      <td>1</td>\n",
       "      <td>leisure</td>\n",
       "      <td>leisure</td>\n",
       "    </tr>\n",
       "  </tbody>\n",
       "</table>\n",
       "</div>"
      ],
      "text/plain": [
       "      hmid   wid reflection_period  \\\n",
       "5    27678    45               24h   \n",
       "50   27723   389               24h   \n",
       "165  27838     5               24h   \n",
       "346  28019   496               24h   \n",
       "396  28069  1672               24h   \n",
       "\n",
       "                                           original_hm  \\\n",
       "5                              I meditated last night.   \n",
       "50                                    I went shopping    \n",
       "165  I was able to play my video game that I enjoy ...   \n",
       "346  I was able to find time to go have my hair cut...   \n",
       "396  I made a delicious meal using fresh ingredient...   \n",
       "\n",
       "                                            cleaned_hm  modified  \\\n",
       "5                              I meditated last night.      True   \n",
       "50                                    I went shopping       True   \n",
       "165  I was able to play my video game that I enjoy ...      True   \n",
       "346  I was able to find time to go have my hair cut...      True   \n",
       "396  I made a delicious meal using fresh ingredient...      True   \n",
       "\n",
       "     num_sentence ground_truth_category predicted_category  \n",
       "5               1               leisure            leisure  \n",
       "50              1               leisure            leisure  \n",
       "165             1               leisure            leisure  \n",
       "346             1               leisure        achievement  \n",
       "396             1               leisure            leisure  "
      ]
     },
     "execution_count": 62,
     "metadata": {},
     "output_type": "execute_result"
    }
   ],
   "source": [
    "get_df_per_label('leisure',df)"
   ]
  },
  {
   "cell_type": "code",
   "execution_count": 63,
   "metadata": {},
   "outputs": [
    {
     "data": {
      "text/html": [
       "<div>\n",
       "<style>\n",
       "    .dataframe thead tr:only-child th {\n",
       "        text-align: right;\n",
       "    }\n",
       "\n",
       "    .dataframe thead th {\n",
       "        text-align: left;\n",
       "    }\n",
       "\n",
       "    .dataframe tbody tr th {\n",
       "        vertical-align: top;\n",
       "    }\n",
       "</style>\n",
       "<table border=\"1\" class=\"dataframe\">\n",
       "  <thead>\n",
       "    <tr style=\"text-align: right;\">\n",
       "      <th></th>\n",
       "      <th>hmid</th>\n",
       "      <th>wid</th>\n",
       "      <th>reflection_period</th>\n",
       "      <th>original_hm</th>\n",
       "      <th>cleaned_hm</th>\n",
       "      <th>modified</th>\n",
       "      <th>num_sentence</th>\n",
       "      <th>ground_truth_category</th>\n",
       "      <th>predicted_category</th>\n",
       "    </tr>\n",
       "  </thead>\n",
       "  <tbody>\n",
       "    <tr>\n",
       "      <th>51</th>\n",
       "      <td>27724</td>\n",
       "      <td>10576</td>\n",
       "      <td>24h</td>\n",
       "      <td>The phone that I have ordered in a local onlin...</td>\n",
       "      <td>The phone that I have ordered in a local onlin...</td>\n",
       "      <td>True</td>\n",
       "      <td>2</td>\n",
       "      <td>enjoy_the_moment</td>\n",
       "      <td>enjoy_the_moment</td>\n",
       "    </tr>\n",
       "    <tr>\n",
       "      <th>86</th>\n",
       "      <td>27759</td>\n",
       "      <td>648</td>\n",
       "      <td>24h</td>\n",
       "      <td>INDIA WON THE SERIES AGAINST AUSTRALIA MADE ME...</td>\n",
       "      <td>INDIA WON THE SERIES AGAINST AUSTRALIA MADE ME...</td>\n",
       "      <td>True</td>\n",
       "      <td>1</td>\n",
       "      <td>enjoy_the_moment</td>\n",
       "      <td>enjoy_the_moment</td>\n",
       "    </tr>\n",
       "    <tr>\n",
       "      <th>162</th>\n",
       "      <td>27835</td>\n",
       "      <td>786</td>\n",
       "      <td>24h</td>\n",
       "      <td>I ate some peanut butter M&amp;Ms while watching J...</td>\n",
       "      <td>I ate some peanut butter M&amp;Ms while watching J...</td>\n",
       "      <td>True</td>\n",
       "      <td>2</td>\n",
       "      <td>enjoy_the_moment</td>\n",
       "      <td>enjoy_the_moment</td>\n",
       "    </tr>\n",
       "    <tr>\n",
       "      <th>267</th>\n",
       "      <td>27940</td>\n",
       "      <td>2794</td>\n",
       "      <td>24h</td>\n",
       "      <td>While buying medicine from a regular pharmacy ...</td>\n",
       "      <td>While buying medicine from a regular pharmacy ...</td>\n",
       "      <td>True</td>\n",
       "      <td>1</td>\n",
       "      <td>enjoy_the_moment</td>\n",
       "      <td>achievement</td>\n",
       "    </tr>\n",
       "    <tr>\n",
       "      <th>391</th>\n",
       "      <td>28064</td>\n",
       "      <td>2394</td>\n",
       "      <td>24h</td>\n",
       "      <td>My job provided lunch and it was really good.</td>\n",
       "      <td>My job provided lunch and it was really good.</td>\n",
       "      <td>True</td>\n",
       "      <td>1</td>\n",
       "      <td>enjoy_the_moment</td>\n",
       "      <td>enjoy_the_moment</td>\n",
       "    </tr>\n",
       "  </tbody>\n",
       "</table>\n",
       "</div>"
      ],
      "text/plain": [
       "      hmid    wid reflection_period  \\\n",
       "51   27724  10576               24h   \n",
       "86   27759    648               24h   \n",
       "162  27835    786               24h   \n",
       "267  27940   2794               24h   \n",
       "391  28064   2394               24h   \n",
       "\n",
       "                                           original_hm  \\\n",
       "51   The phone that I have ordered in a local onlin...   \n",
       "86   INDIA WON THE SERIES AGAINST AUSTRALIA MADE ME...   \n",
       "162  I ate some peanut butter M&Ms while watching J...   \n",
       "267  While buying medicine from a regular pharmacy ...   \n",
       "391     My job provided lunch and it was really good.    \n",
       "\n",
       "                                            cleaned_hm  modified  \\\n",
       "51   The phone that I have ordered in a local onlin...      True   \n",
       "86   INDIA WON THE SERIES AGAINST AUSTRALIA MADE ME...      True   \n",
       "162  I ate some peanut butter M&Ms while watching J...      True   \n",
       "267  While buying medicine from a regular pharmacy ...      True   \n",
       "391     My job provided lunch and it was really good.       True   \n",
       "\n",
       "     num_sentence ground_truth_category predicted_category  \n",
       "51              2      enjoy_the_moment   enjoy_the_moment  \n",
       "86              1      enjoy_the_moment   enjoy_the_moment  \n",
       "162             2      enjoy_the_moment   enjoy_the_moment  \n",
       "267             1      enjoy_the_moment        achievement  \n",
       "391             1      enjoy_the_moment   enjoy_the_moment  "
      ]
     },
     "execution_count": 63,
     "metadata": {},
     "output_type": "execute_result"
    }
   ],
   "source": [
    "get_df_per_label('enjoy_the_moment', df)"
   ]
  },
  {
   "cell_type": "code",
   "execution_count": 64,
   "metadata": {},
   "outputs": [
    {
     "data": {
      "text/html": [
       "<div>\n",
       "<style>\n",
       "    .dataframe thead tr:only-child th {\n",
       "        text-align: right;\n",
       "    }\n",
       "\n",
       "    .dataframe thead th {\n",
       "        text-align: left;\n",
       "    }\n",
       "\n",
       "    .dataframe tbody tr th {\n",
       "        vertical-align: top;\n",
       "    }\n",
       "</style>\n",
       "<table border=\"1\" class=\"dataframe\">\n",
       "  <thead>\n",
       "    <tr style=\"text-align: right;\">\n",
       "      <th></th>\n",
       "      <th>hmid</th>\n",
       "      <th>wid</th>\n",
       "      <th>reflection_period</th>\n",
       "      <th>original_hm</th>\n",
       "      <th>cleaned_hm</th>\n",
       "      <th>modified</th>\n",
       "      <th>num_sentence</th>\n",
       "      <th>ground_truth_category</th>\n",
       "      <th>predicted_category</th>\n",
       "    </tr>\n",
       "  </thead>\n",
       "  <tbody>\n",
       "    <tr>\n",
       "      <th>53</th>\n",
       "      <td>27726</td>\n",
       "      <td>383</td>\n",
       "      <td>24h</td>\n",
       "      <td>I bought a new TV</td>\n",
       "      <td>I bought a new TV</td>\n",
       "      <td>True</td>\n",
       "      <td>1</td>\n",
       "      <td>achievement</td>\n",
       "      <td>achievement</td>\n",
       "    </tr>\n",
       "    <tr>\n",
       "      <th>62</th>\n",
       "      <td>27735</td>\n",
       "      <td>1377</td>\n",
       "      <td>24h</td>\n",
       "      <td>I slow cooked a chuck roast on my stove that c...</td>\n",
       "      <td>I slow cooked a chuck roast on my stove that c...</td>\n",
       "      <td>True</td>\n",
       "      <td>1</td>\n",
       "      <td>achievement</td>\n",
       "      <td>achievement</td>\n",
       "    </tr>\n",
       "    <tr>\n",
       "      <th>72</th>\n",
       "      <td>27745</td>\n",
       "      <td>1020</td>\n",
       "      <td>24h</td>\n",
       "      <td>I lost 2 kgs of weight after a month long effo...</td>\n",
       "      <td>I lost 2 kgs of weight after a month long effo...</td>\n",
       "      <td>True</td>\n",
       "      <td>1</td>\n",
       "      <td>achievement</td>\n",
       "      <td>achievement</td>\n",
       "    </tr>\n",
       "    <tr>\n",
       "      <th>73</th>\n",
       "      <td>27746</td>\n",
       "      <td>1625</td>\n",
       "      <td>24h</td>\n",
       "      <td>i finally learned to cook chicken\\r\\n</td>\n",
       "      <td>i finally learned to cook chicken\\r\\n</td>\n",
       "      <td>True</td>\n",
       "      <td>1</td>\n",
       "      <td>achievement</td>\n",
       "      <td>achievement</td>\n",
       "    </tr>\n",
       "    <tr>\n",
       "      <th>117</th>\n",
       "      <td>27790</td>\n",
       "      <td>72</td>\n",
       "      <td>24h</td>\n",
       "      <td>A made quite the progress on an old rusty work...</td>\n",
       "      <td>A made quite the progress on an old rusty work...</td>\n",
       "      <td>True</td>\n",
       "      <td>2</td>\n",
       "      <td>achievement</td>\n",
       "      <td>achievement</td>\n",
       "    </tr>\n",
       "  </tbody>\n",
       "</table>\n",
       "</div>"
      ],
      "text/plain": [
       "      hmid   wid reflection_period  \\\n",
       "53   27726   383               24h   \n",
       "62   27735  1377               24h   \n",
       "72   27745  1020               24h   \n",
       "73   27746  1625               24h   \n",
       "117  27790    72               24h   \n",
       "\n",
       "                                           original_hm  \\\n",
       "53                                   I bought a new TV   \n",
       "62   I slow cooked a chuck roast on my stove that c...   \n",
       "72   I lost 2 kgs of weight after a month long effo...   \n",
       "73               i finally learned to cook chicken\\r\\n   \n",
       "117  A made quite the progress on an old rusty work...   \n",
       "\n",
       "                                            cleaned_hm  modified  \\\n",
       "53                                   I bought a new TV      True   \n",
       "62   I slow cooked a chuck roast on my stove that c...      True   \n",
       "72   I lost 2 kgs of weight after a month long effo...      True   \n",
       "73               i finally learned to cook chicken\\r\\n      True   \n",
       "117  A made quite the progress on an old rusty work...      True   \n",
       "\n",
       "     num_sentence ground_truth_category predicted_category  \n",
       "53              1           achievement        achievement  \n",
       "62              1           achievement        achievement  \n",
       "72              1           achievement        achievement  \n",
       "73              1           achievement        achievement  \n",
       "117             2           achievement        achievement  "
      ]
     },
     "execution_count": 64,
     "metadata": {},
     "output_type": "execute_result"
    }
   ],
   "source": [
    "get_df_per_label('achievement',df)"
   ]
  },
  {
   "cell_type": "code",
   "execution_count": 65,
   "metadata": {},
   "outputs": [
    {
     "data": {
      "text/html": [
       "<div>\n",
       "<style>\n",
       "    .dataframe thead tr:only-child th {\n",
       "        text-align: right;\n",
       "    }\n",
       "\n",
       "    .dataframe thead th {\n",
       "        text-align: left;\n",
       "    }\n",
       "\n",
       "    .dataframe tbody tr th {\n",
       "        vertical-align: top;\n",
       "    }\n",
       "</style>\n",
       "<table border=\"1\" class=\"dataframe\">\n",
       "  <thead>\n",
       "    <tr style=\"text-align: right;\">\n",
       "      <th></th>\n",
       "      <th>hmid</th>\n",
       "      <th>wid</th>\n",
       "      <th>reflection_period</th>\n",
       "      <th>original_hm</th>\n",
       "      <th>cleaned_hm</th>\n",
       "      <th>modified</th>\n",
       "      <th>num_sentence</th>\n",
       "      <th>ground_truth_category</th>\n",
       "      <th>predicted_category</th>\n",
       "    </tr>\n",
       "  </thead>\n",
       "  <tbody>\n",
       "    <tr>\n",
       "      <th>24</th>\n",
       "      <td>27697</td>\n",
       "      <td>498</td>\n",
       "      <td>24h</td>\n",
       "      <td>My grandmother start to walk from the bed afte...</td>\n",
       "      <td>My grandmother start to walk from the bed afte...</td>\n",
       "      <td>True</td>\n",
       "      <td>1</td>\n",
       "      <td>affection</td>\n",
       "      <td>affection</td>\n",
       "    </tr>\n",
       "    <tr>\n",
       "      <th>91</th>\n",
       "      <td>27764</td>\n",
       "      <td>102</td>\n",
       "      <td>24h</td>\n",
       "      <td>My son results is today its got very good he s...</td>\n",
       "      <td>My son results is today its got very good he s...</td>\n",
       "      <td>True</td>\n",
       "      <td>1</td>\n",
       "      <td>affection</td>\n",
       "      <td>affection</td>\n",
       "    </tr>\n",
       "    <tr>\n",
       "      <th>103</th>\n",
       "      <td>27776</td>\n",
       "      <td>681</td>\n",
       "      <td>24h</td>\n",
       "      <td>My family went to a wildlife park. It was so b...</td>\n",
       "      <td>My family went to a wildlife park. It was so b...</td>\n",
       "      <td>True</td>\n",
       "      <td>2</td>\n",
       "      <td>affection</td>\n",
       "      <td>affection</td>\n",
       "    </tr>\n",
       "    <tr>\n",
       "      <th>149</th>\n",
       "      <td>27822</td>\n",
       "      <td>924</td>\n",
       "      <td>24h</td>\n",
       "      <td>My husband says me 'I love u ' when i woke up ...</td>\n",
       "      <td>My husband says me 'I love u ' when i woke up ...</td>\n",
       "      <td>True</td>\n",
       "      <td>1</td>\n",
       "      <td>affection</td>\n",
       "      <td>affection</td>\n",
       "    </tr>\n",
       "    <tr>\n",
       "      <th>172</th>\n",
       "      <td>27845</td>\n",
       "      <td>179</td>\n",
       "      <td>24h</td>\n",
       "      <td>I enjoyed play Soccer with my brother</td>\n",
       "      <td>I enjoyed play Soccer with my brother</td>\n",
       "      <td>True</td>\n",
       "      <td>1</td>\n",
       "      <td>affection</td>\n",
       "      <td>affection</td>\n",
       "    </tr>\n",
       "  </tbody>\n",
       "</table>\n",
       "</div>"
      ],
      "text/plain": [
       "      hmid  wid reflection_period  \\\n",
       "24   27697  498               24h   \n",
       "91   27764  102               24h   \n",
       "103  27776  681               24h   \n",
       "149  27822  924               24h   \n",
       "172  27845  179               24h   \n",
       "\n",
       "                                           original_hm  \\\n",
       "24   My grandmother start to walk from the bed afte...   \n",
       "91   My son results is today its got very good he s...   \n",
       "103  My family went to a wildlife park. It was so b...   \n",
       "149  My husband says me 'I love u ' when i woke up ...   \n",
       "172              I enjoyed play Soccer with my brother   \n",
       "\n",
       "                                            cleaned_hm  modified  \\\n",
       "24   My grandmother start to walk from the bed afte...      True   \n",
       "91   My son results is today its got very good he s...      True   \n",
       "103  My family went to a wildlife park. It was so b...      True   \n",
       "149  My husband says me 'I love u ' when i woke up ...      True   \n",
       "172              I enjoyed play Soccer with my brother      True   \n",
       "\n",
       "     num_sentence ground_truth_category predicted_category  \n",
       "24              1             affection          affection  \n",
       "91              1             affection          affection  \n",
       "103             2             affection          affection  \n",
       "149             1             affection          affection  \n",
       "172             1             affection          affection  "
      ]
     },
     "execution_count": 65,
     "metadata": {},
     "output_type": "execute_result"
    }
   ],
   "source": [
    "get_df_per_label('affection',df)"
   ]
  },
  {
   "cell_type": "code",
   "execution_count": 45,
   "metadata": {},
   "outputs": [],
   "source": [
    "import nltk as nl"
   ]
  },
  {
   "cell_type": "code",
   "execution_count": 1,
   "metadata": {},
   "outputs": [],
   "source": [
    "def vocabulary_size(field,df):\n",
    "    voc = set()\n",
    "    sentences = []\n",
    "    for line in df[field] :\n",
    "        sentences.append(line.split(' '))\n",
    "\n",
    "    for line in sentences:\n",
    "        for word in line :\n",
    "            voc.add(word)\n",
    "            \n",
    "            \n",
    "    return voc"
   ]
  },
  {
   "cell_type": "markdown",
   "metadata": {},
   "source": [
    "## 4) IMDB reviews dataset "
   ]
  },
  {
   "cell_type": "code",
   "execution_count": 2,
   "metadata": {},
   "outputs": [],
   "source": [
    "import glob\n",
    "import re"
   ]
  },
  {
   "cell_type": "code",
   "execution_count": 3,
   "metadata": {},
   "outputs": [],
   "source": [
    "import os\n",
    "\n",
    "path_neg = '/Users/francisdamachi/Desktop/epfl/Master/Master_semester_project/Semester Project/Data/train/neg'\n",
    "path_pos = '/Users/francisdamachi/Desktop/epfl/Master/Master_semester_project/Semester Project/Data/train/pos'\n",
    "\n",
    "\n",
    "\n",
    "\n",
    "def ratings(path):\n",
    "    files = os.listdir(path)\n",
    "    rating = []\n",
    "\n",
    "    for file in files :\n",
    "        if(file[-5] == '0'):\n",
    "            rating.append('10')\n",
    "        else:\n",
    "            rating.append(file[-5])\n",
    "\n",
    "    return rating\n",
    "\n"
   ]
  },
  {
   "cell_type": "code",
   "execution_count": 4,
   "metadata": {},
   "outputs": [],
   "source": [
    "rating_neg = ratings(path_neg)\n",
    "rating_pos = ratings(path_pos)\n"
   ]
  },
  {
   "cell_type": "code",
   "execution_count": 5,
   "metadata": {},
   "outputs": [
    {
     "data": {
      "text/plain": [
       "['9', '8', '7', '8', '10', '8', '10', '10', '10', '10']"
      ]
     },
     "execution_count": 5,
     "metadata": {},
     "output_type": "execute_result"
    }
   ],
   "source": [
    "rating_pos[:10]"
   ]
  },
  {
   "cell_type": "code",
   "execution_count": 6,
   "metadata": {},
   "outputs": [
    {
     "data": {
      "text/plain": [
       "['4', '1', '4', '1', '3', '3', '4', '2', '1', '1']"
      ]
     },
     "execution_count": 6,
     "metadata": {},
     "output_type": "execute_result"
    }
   ],
   "source": [
    "rating_neg[:10]"
   ]
  },
  {
   "cell_type": "code",
   "execution_count": 7,
   "metadata": {},
   "outputs": [],
   "source": [
    "\n",
    "def get_reviews(path_, rating):\n",
    "    reviews = []\n",
    "\n",
    "    files  = os.listdir(path_)\n",
    "\n",
    "\n",
    "    for file in files :\n",
    "        path_of_file = path_+'/'+file\n",
    "\n",
    "        with open(path_of_file) as f :\n",
    "            lines = f.readlines()\n",
    "            reviews.append({'review':lines})\n",
    "\n",
    "\n",
    "    review_rating =  zip(reviews,rating)\n",
    "    \n",
    "    rev_rat = [{'review': rev['review'][0], 'rating':rat} for rev,rat in review_rating ]\n",
    "    \n",
    "    return pd.DataFrame(rev_rat)\n",
    "\n"
   ]
  },
  {
   "cell_type": "code",
   "execution_count": 12,
   "metadata": {},
   "outputs": [],
   "source": [
    "negative_reviews = get_reviews(path_neg,rating_neg)"
   ]
  },
  {
   "cell_type": "code",
   "execution_count": 13,
   "metadata": {},
   "outputs": [],
   "source": [
    "positive_reviews = get_reviews(path_pos, rating_pos)"
   ]
  },
  {
   "cell_type": "code",
   "execution_count": 14,
   "metadata": {},
   "outputs": [
    {
     "name": "stdout",
     "output_type": "stream",
     "text": [
      "negative review size:  12500\n",
      "positive review size:  12500\n",
      "total size : 25000\n"
     ]
    }
   ],
   "source": [
    "print(\"negative review size: \", len(negative_reviews))\n",
    "print(\"positive review size: \", len(positive_reviews))\n",
    "print(\"total size :\", len(negative_reviews) + len(positive_reviews))"
   ]
  },
  {
   "cell_type": "code",
   "execution_count": 15,
   "metadata": {},
   "outputs": [],
   "source": [
    "voc_size_neg = vocabulary_size('review',negative_reviews)\n",
    "voc_size_pos = vocabulary_size('review',positive_reviews)\n"
   ]
  },
  {
   "cell_type": "code",
   "execution_count": 16,
   "metadata": {},
   "outputs": [
    {
     "name": "stdout",
     "output_type": "stream",
     "text": [
      "vocabulary size negative reviews 176694\n",
      "vocabulary size positive reviews 178885\n"
     ]
    }
   ],
   "source": [
    "print(\"vocabulary size negative reviews\", len(voc_size_neg))\n",
    "print(\"vocabulary size positive reviews\", len(voc_size_pos))\n"
   ]
  },
  {
   "cell_type": "markdown",
   "metadata": {},
   "source": [
    "# Dataset set summary"
   ]
  },
  {
   "cell_type": "markdown",
   "metadata": {},
   "source": [
    "| Dataset            | Number of phrases | Labeled | Vocabulary Size | About                                                                                                                                                                     | Source      | How was it generated                                                                                                                                             | \n",
    "|--------------------|-------------------|---------|-----------------|---------------------------------------------------------------------------------------------------------------------------------------------------------------------------|-------------|------------------------------------------------------------------------------------------------------------------------------------------------------------------| \n",
    "| text_emotion.csv   | 40000             | Yes     | 83294           | \"his dataset contains labels for the emotional content (such as happiness, sadness, and anger) of texts.\"                                                                 | CrowdFlower | CrowdFlower                                                                                                                                                      | \n",
    "| EmotionPhrases.csv | 7652              | Yes     | 17080           | Labeld dataset of twitter lines                                                                                                                                           | Twitter     | This dataset was collected using Twitter public streaming. The collected tweets were automatically labeled using the emotion hashtags at the end of each tweet.  | \n",
    "| HappyDb.csv        | 100535            | Yes     | 17757           | \"Lines of happy moments. It seems to me that some of the labels don't really reflect an emotion for example exercise, leisure, nature. But rather a topic or a feeling. \" | Kaggle      | \"A Corpus of 100,000 Crowdsourced Happy Moments\"                                                                                                                 | \n",
    "| IMDB reviews pos   | 12500             | No      | 178885          | These are IMBD positive reviews and the ratings associated with them.                                                                                                     | Kaggle      | IMDB dataset                                                                                                                                                     | \n",
    "| IMDB reviews neg   | 12500             | No      | 176694          | These are IMBD negative reviews and the ratings associated with them.                                                                                                     |  Kaggle          | IMDB dataset                                                                                                                                                     | \n"
   ]
  },
  {
   "cell_type": "code",
   "execution_count": null,
   "metadata": {},
   "outputs": [],
   "source": []
  }
 ],
 "metadata": {
  "anaconda-cloud": {},
  "kernelspec": {
   "display_name": "Python [conda env:anaconda]",
   "language": "python",
   "name": "conda-env-anaconda-py"
  },
  "language_info": {
   "codemirror_mode": {
    "name": "ipython",
    "version": 3
   },
   "file_extension": ".py",
   "mimetype": "text/x-python",
   "name": "python",
   "nbconvert_exporter": "python",
   "pygments_lexer": "ipython3",
   "version": "3.5.5"
  }
 },
 "nbformat": 4,
 "nbformat_minor": 2
}
